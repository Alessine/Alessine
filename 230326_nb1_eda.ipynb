{
  "cells": [
    {
      "cell_type": "markdown",
      "metadata": {
        "id": "view-in-github",
        "colab_type": "text"
      },
      "source": [
        "<a href=\"https://colab.research.google.com/github/Alessine/Alessine/blob/main/230326_nb1_eda.ipynb\" target=\"_parent\"><img src=\"https://colab.research.google.com/assets/colab-badge.svg\" alt=\"Open In Colab\"/></a>"
      ]
    },
    {
      "cell_type": "markdown",
      "id": "44121a52-c087-4b9a-bdcb-a37b5cf40148",
      "metadata": {
        "id": "44121a52-c087-4b9a-bdcb-a37b5cf40148"
      },
      "source": [
        "<a id='Q0'></a>\n",
        "<center> <h1> Notebook 1: Google Analytics 4 Data Analysis & Visualization</h1> </center>\n",
        "<p style=\"margin-bottom:1cm;\"></p>\n",
        "<center><strong>Angela Niederberger, 2023</strong></center>\n",
        "<p style=\"margin-bottom:1cm;\"></p>\n",
        "\n",
        "<div style=\"background:#EEEDF5;border-top:0.1cm solid #EF475B;border-bottom:0.1cm solid #EF475B;\">\n",
        "    <div style=\"margin-left: 0.5cm;margin-top: 0.5cm;margin-bottom: 0.5cm;color:#303030\">\n",
        "        <p><strong>Goal:</strong> Analyse Website Data from GA4 and Create Compelling Visuals</p>\n",
        "        <strong> Outline:</strong>\n",
        "        <a id='P0' name=\"P0\"></a>\n",
        "        <ol>\n",
        "            <li> <a style=\"color:#303030\" href='#I'>Introduction </a> </li>\n",
        "            <li> <a style=\"color:#303030\" href='#SU'>Set up</a></li>\n",
        "            <li> <a style=\"color:#303030\" href='#P1'>First Subset: Event Data</a></li>\n",
        "            <li> <a style=\"color:#303030\" href='#P2'>Part 2</a></li>\n",
        "            <li> <a style=\"color:#303030\" href='#P3'>Part 3</a></li>\n",
        "            <li> <a style=\"color:#303030\" href='#CL'>Conclusion</a></li>\n",
        "        </ol>\n",
        "        <strong>Keywords: BigQuery, Google Analytics 4, SQL, LookerStudio</strong>\n",
        "    </div>\n",
        "</div>\n",
        "</nav>"
      ]
    },
    {
      "cell_type": "markdown",
      "id": "3b888b7d-daaa-42f3-bf20-8b34f2032708",
      "metadata": {
        "id": "3b888b7d-daaa-42f3-bf20-8b34f2032708"
      },
      "source": [
        "<a id='I' name=\"I\"></a>\n",
        "## [Introduction](#P0)"
      ]
    },
    {
      "cell_type": "markdown",
      "id": "b48c8fbb-3714-4baf-93b8-ea539f476ded",
      "metadata": {
        "id": "b48c8fbb-3714-4baf-93b8-ea539f476ded"
      },
      "source": [
        "Google has made a GA4 dataset available from its own Merchandise Store. It can be accessed easily via BigQuery and serves well for explorations of the general structure of GA4 data. The analysis and visualizations here are an opportunity to practice using this data with smaller subsets, but should also provide some interesting insights into this dataset. \n",
        "\n",
        "As a next step, the goal will be to perform the same analysis tasks directly in BigQuery (using SQL) and to recreate the visualizations in a LookerStudio dashboard. This would enable the processing of much larger amounts of data."
      ]
    },
    {
      "cell_type": "markdown",
      "id": "e986ed40-d5ad-4d4e-8039-a66346f7f9bd",
      "metadata": {
        "id": "e986ed40-d5ad-4d4e-8039-a66346f7f9bd"
      },
      "source": [
        "<a id='SU' name=\"SU\"></a>\n",
        "## [Set up](#P0)"
      ]
    },
    {
      "cell_type": "markdown",
      "id": "4a290be9-7423-49dd-83d5-011aa101841a",
      "metadata": {
        "id": "4a290be9-7423-49dd-83d5-011aa101841a"
      },
      "source": [
        "### Packages"
      ]
    },
    {
      "cell_type": "code",
      "execution_count": null,
      "id": "c1b2595c-4350-411c-af49-350ca1a196f8",
      "metadata": {
        "id": "c1b2595c-4350-411c-af49-350ca1a196f8"
      },
      "outputs": [],
      "source": [
        "# Google Cloud Libraries\n",
        "from google.colab import auth\n",
        "from google.cloud import bigquery\n",
        "from google.colab import data_table\n",
        "\n",
        "# Wrangling\n",
        "import numpy as np\n",
        "import pandas as pd\n",
        "\n",
        "# Visualization\n",
        "import matplotlib.pyplot as plt\n",
        "import seaborn as sns\n",
        "import plotly.graph_objects as go"
      ]
    },
    {
      "cell_type": "markdown",
      "source": [
        "### Authorization"
      ],
      "metadata": {
        "id": "4h3sp-BxF-R2"
      },
      "id": "4h3sp-BxF-R2"
    },
    {
      "cell_type": "code",
      "source": [
        "auth.authenticate_user()\n",
        "print('Authenticated')"
      ],
      "metadata": {
        "colab": {
          "base_uri": "https://localhost:8080/"
        },
        "id": "KhGqxjYKF6fr",
        "outputId": "45e0cab6-91ec-418a-f34f-61b3e872a001"
      },
      "id": "KhGqxjYKF6fr",
      "execution_count": null,
      "outputs": [
        {
          "output_type": "stream",
          "name": "stdout",
          "text": [
            "Authenticated\n"
          ]
        }
      ]
    },
    {
      "cell_type": "markdown",
      "id": "0875f827-3f69-45ca-a7b6-f60afe2df07a",
      "metadata": {
        "id": "0875f827-3f69-45ca-a7b6-f60afe2df07a"
      },
      "source": [
        "### Magic Commands"
      ]
    },
    {
      "cell_type": "code",
      "execution_count": null,
      "id": "dfe5d540-623b-4221-81fb-fa7605d01c0c",
      "metadata": {
        "id": "dfe5d540-623b-4221-81fb-fa7605d01c0c"
      },
      "outputs": [],
      "source": [
        "%matplotlib inline\n",
        "%config Completer.use_jedi = False"
      ]
    },
    {
      "cell_type": "markdown",
      "id": "935e1bf6-1077-47cf-9568-90c251703bd6",
      "metadata": {
        "id": "935e1bf6-1077-47cf-9568-90c251703bd6"
      },
      "source": [
        "### Global Parameters Setting"
      ]
    },
    {
      "cell_type": "code",
      "execution_count": null,
      "id": "127313b5-3286-4b4f-a4d3-a4535313e2b9",
      "metadata": {
        "id": "127313b5-3286-4b4f-a4d3-a4535313e2b9"
      },
      "outputs": [],
      "source": []
    },
    {
      "cell_type": "markdown",
      "id": "717d3d83-391f-434a-91fd-60ad9eec01a9",
      "metadata": {
        "id": "717d3d83-391f-434a-91fd-60ad9eec01a9"
      },
      "source": [
        "### User-Dependent Variables"
      ]
    },
    {
      "cell_type": "code",
      "execution_count": null,
      "id": "5eeda66a-4d8f-46c2-9c53-7e0c273f9ed1",
      "metadata": {
        "id": "5eeda66a-4d8f-46c2-9c53-7e0c273f9ed1"
      },
      "outputs": [],
      "source": []
    },
    {
      "cell_type": "markdown",
      "source": [
        "## First Subset: Event Data\n",
        "\n",
        "The new GA4 Data Model is entirely event-based. Therefore, the first subset of the data that I'm looking into just contains information on events."
      ],
      "metadata": {
        "id": "g4E3LygPSLfT"
      },
      "id": "g4E3LygPSLfT"
    },
    {
      "cell_type": "markdown",
      "id": "fe441e86-4914-490c-8edb-e5267bb8c535",
      "metadata": {
        "id": "fe441e86-4914-490c-8edb-e5267bb8c535"
      },
      "source": [
        "### Data Loading\n",
        "\n",
        "I'm using the library `google.cloud.bigquery` - check the [documentation](https://cloud.google.com/python/docs/reference/bigquery/latest/index.html) for more information."
      ]
    },
    {
      "cell_type": "code",
      "source": [
        "project = 'web-analytics-374017' # My project ID\n",
        "location = 'US' # Dataset Location\n",
        "client = bigquery.Client(project=project, location=location)\n",
        "data_table.enable_dataframe_formatter()"
      ],
      "metadata": {
        "id": "odZz5mlAJsTW"
      },
      "id": "odZz5mlAJsTW",
      "execution_count": null,
      "outputs": []
    },
    {
      "cell_type": "code",
      "source": [
        "# SQL query used to call data from BigQuery:\n",
        "# Event data in January 2021\n",
        "sql_query = \"\"\"\n",
        "  SELECT\n",
        "    event_date,\n",
        "    event_timestamp,\n",
        "    event_name,\n",
        "    event_params.key AS event_param_key,\n",
        "    event_params.value.*,\n",
        "    user_pseudo_id,\n",
        "  FROM\n",
        "    `bigquery-public-data.ga4_obfuscated_sample_ecommerce.events_*`\n",
        "  CROSS JOIN\n",
        "    UNNEST(event_params) AS event_params\n",
        "  WHERE event_date BETWEEN \"20210101\"\n",
        "  AND \"20210131\"\n",
        "\"\"\"\n",
        "\n",
        "df_events = client.query(sql_query).to_dataframe()"
      ],
      "metadata": {
        "id": "_yU8j3lfMmDo"
      },
      "id": "_yU8j3lfMmDo",
      "execution_count": null,
      "outputs": []
    },
    {
      "cell_type": "code",
      "source": [
        "df_events.head()"
      ],
      "metadata": {
        "colab": {
          "base_uri": "https://localhost:8080/",
          "height": 199
        },
        "id": "WqytrJzIMmHL",
        "outputId": "4087a457-4be8-43dc-ea08-169506e1a43d"
      },
      "id": "WqytrJzIMmHL",
      "execution_count": null,
      "outputs": [
        {
          "output_type": "execute_result",
          "data": {
            "text/plain": [
              "  event_date   event_timestamp        event_name       event_param_key  \\\n",
              "0   20210125  1611568466723750    view_promotion            page_title   \n",
              "1   20210125  1611614098807421  select_promotion       session_engaged   \n",
              "2   20210125  1611614098807421    view_promotion       session_engaged   \n",
              "3   20210125  1611533240927791    view_promotion         page_location   \n",
              "4   20210125  1611609917093305    view_promotion  engagement_time_msec   \n",
              "\n",
              "                               string_value  int_value  float_value  \\\n",
              "0                                      Home       <NA>          NaN   \n",
              "1                                         1       <NA>          NaN   \n",
              "2                                         1       <NA>          NaN   \n",
              "3  https://shop.googlemerchandisestore.com/       <NA>          NaN   \n",
              "4                                      None        126          NaN   \n",
              "\n",
              "   double_value       user_pseudo_id  \n",
              "0           NaN  61243398.6312559948  \n",
              "1           NaN  62675582.3881827967  \n",
              "2           NaN  62675582.3881827967  \n",
              "3           NaN  63326662.4577590696  \n",
              "4           NaN  66749267.2079297955  "
            ],
            "text/html": [
              "\n",
              "  <div id=\"df-0d75c03d-51ca-4c9a-b3ae-9801597831e5\">\n",
              "    <div class=\"colab-df-container\">\n",
              "      <div>\n",
              "<style scoped>\n",
              "    .dataframe tbody tr th:only-of-type {\n",
              "        vertical-align: middle;\n",
              "    }\n",
              "\n",
              "    .dataframe tbody tr th {\n",
              "        vertical-align: top;\n",
              "    }\n",
              "\n",
              "    .dataframe thead th {\n",
              "        text-align: right;\n",
              "    }\n",
              "</style>\n",
              "<table border=\"1\" class=\"dataframe\">\n",
              "  <thead>\n",
              "    <tr style=\"text-align: right;\">\n",
              "      <th></th>\n",
              "      <th>event_date</th>\n",
              "      <th>event_timestamp</th>\n",
              "      <th>event_name</th>\n",
              "      <th>event_param_key</th>\n",
              "      <th>string_value</th>\n",
              "      <th>int_value</th>\n",
              "      <th>float_value</th>\n",
              "      <th>double_value</th>\n",
              "      <th>user_pseudo_id</th>\n",
              "    </tr>\n",
              "  </thead>\n",
              "  <tbody>\n",
              "    <tr>\n",
              "      <th>0</th>\n",
              "      <td>20210125</td>\n",
              "      <td>1611568466723750</td>\n",
              "      <td>view_promotion</td>\n",
              "      <td>page_title</td>\n",
              "      <td>Home</td>\n",
              "      <td>&lt;NA&gt;</td>\n",
              "      <td>NaN</td>\n",
              "      <td>NaN</td>\n",
              "      <td>61243398.6312559948</td>\n",
              "    </tr>\n",
              "    <tr>\n",
              "      <th>1</th>\n",
              "      <td>20210125</td>\n",
              "      <td>1611614098807421</td>\n",
              "      <td>select_promotion</td>\n",
              "      <td>session_engaged</td>\n",
              "      <td>1</td>\n",
              "      <td>&lt;NA&gt;</td>\n",
              "      <td>NaN</td>\n",
              "      <td>NaN</td>\n",
              "      <td>62675582.3881827967</td>\n",
              "    </tr>\n",
              "    <tr>\n",
              "      <th>2</th>\n",
              "      <td>20210125</td>\n",
              "      <td>1611614098807421</td>\n",
              "      <td>view_promotion</td>\n",
              "      <td>session_engaged</td>\n",
              "      <td>1</td>\n",
              "      <td>&lt;NA&gt;</td>\n",
              "      <td>NaN</td>\n",
              "      <td>NaN</td>\n",
              "      <td>62675582.3881827967</td>\n",
              "    </tr>\n",
              "    <tr>\n",
              "      <th>3</th>\n",
              "      <td>20210125</td>\n",
              "      <td>1611533240927791</td>\n",
              "      <td>view_promotion</td>\n",
              "      <td>page_location</td>\n",
              "      <td>https://shop.googlemerchandisestore.com/</td>\n",
              "      <td>&lt;NA&gt;</td>\n",
              "      <td>NaN</td>\n",
              "      <td>NaN</td>\n",
              "      <td>63326662.4577590696</td>\n",
              "    </tr>\n",
              "    <tr>\n",
              "      <th>4</th>\n",
              "      <td>20210125</td>\n",
              "      <td>1611609917093305</td>\n",
              "      <td>view_promotion</td>\n",
              "      <td>engagement_time_msec</td>\n",
              "      <td>None</td>\n",
              "      <td>126</td>\n",
              "      <td>NaN</td>\n",
              "      <td>NaN</td>\n",
              "      <td>66749267.2079297955</td>\n",
              "    </tr>\n",
              "  </tbody>\n",
              "</table>\n",
              "</div>\n",
              "      <button class=\"colab-df-convert\" onclick=\"convertToInteractive('df-0d75c03d-51ca-4c9a-b3ae-9801597831e5')\"\n",
              "              title=\"Convert this dataframe to an interactive table.\"\n",
              "              style=\"display:none;\">\n",
              "        \n",
              "  <svg xmlns=\"http://www.w3.org/2000/svg\" height=\"24px\"viewBox=\"0 0 24 24\"\n",
              "       width=\"24px\">\n",
              "    <path d=\"M0 0h24v24H0V0z\" fill=\"none\"/>\n",
              "    <path d=\"M18.56 5.44l.94 2.06.94-2.06 2.06-.94-2.06-.94-.94-2.06-.94 2.06-2.06.94zm-11 1L8.5 8.5l.94-2.06 2.06-.94-2.06-.94L8.5 2.5l-.94 2.06-2.06.94zm10 10l.94 2.06.94-2.06 2.06-.94-2.06-.94-.94-2.06-.94 2.06-2.06.94z\"/><path d=\"M17.41 7.96l-1.37-1.37c-.4-.4-.92-.59-1.43-.59-.52 0-1.04.2-1.43.59L10.3 9.45l-7.72 7.72c-.78.78-.78 2.05 0 2.83L4 21.41c.39.39.9.59 1.41.59.51 0 1.02-.2 1.41-.59l7.78-7.78 2.81-2.81c.8-.78.8-2.07 0-2.86zM5.41 20L4 18.59l7.72-7.72 1.47 1.35L5.41 20z\"/>\n",
              "  </svg>\n",
              "      </button>\n",
              "      \n",
              "  <style>\n",
              "    .colab-df-container {\n",
              "      display:flex;\n",
              "      flex-wrap:wrap;\n",
              "      gap: 12px;\n",
              "    }\n",
              "\n",
              "    .colab-df-convert {\n",
              "      background-color: #E8F0FE;\n",
              "      border: none;\n",
              "      border-radius: 50%;\n",
              "      cursor: pointer;\n",
              "      display: none;\n",
              "      fill: #1967D2;\n",
              "      height: 32px;\n",
              "      padding: 0 0 0 0;\n",
              "      width: 32px;\n",
              "    }\n",
              "\n",
              "    .colab-df-convert:hover {\n",
              "      background-color: #E2EBFA;\n",
              "      box-shadow: 0px 1px 2px rgba(60, 64, 67, 0.3), 0px 1px 3px 1px rgba(60, 64, 67, 0.15);\n",
              "      fill: #174EA6;\n",
              "    }\n",
              "\n",
              "    [theme=dark] .colab-df-convert {\n",
              "      background-color: #3B4455;\n",
              "      fill: #D2E3FC;\n",
              "    }\n",
              "\n",
              "    [theme=dark] .colab-df-convert:hover {\n",
              "      background-color: #434B5C;\n",
              "      box-shadow: 0px 1px 3px 1px rgba(0, 0, 0, 0.15);\n",
              "      filter: drop-shadow(0px 1px 2px rgba(0, 0, 0, 0.3));\n",
              "      fill: #FFFFFF;\n",
              "    }\n",
              "  </style>\n",
              "\n",
              "      <script>\n",
              "        const buttonEl =\n",
              "          document.querySelector('#df-0d75c03d-51ca-4c9a-b3ae-9801597831e5 button.colab-df-convert');\n",
              "        buttonEl.style.display =\n",
              "          google.colab.kernel.accessAllowed ? 'block' : 'none';\n",
              "\n",
              "        async function convertToInteractive(key) {\n",
              "          const element = document.querySelector('#df-0d75c03d-51ca-4c9a-b3ae-9801597831e5');\n",
              "          const dataTable =\n",
              "            await google.colab.kernel.invokeFunction('convertToInteractive',\n",
              "                                                     [key], {});\n",
              "          if (!dataTable) return;\n",
              "\n",
              "          const docLinkHtml = 'Like what you see? Visit the ' +\n",
              "            '<a target=\"_blank\" href=https://colab.research.google.com/notebooks/data_table.ipynb>data table notebook</a>'\n",
              "            + ' to learn more about interactive tables.';\n",
              "          element.innerHTML = '';\n",
              "          dataTable['output_type'] = 'display_data';\n",
              "          await google.colab.output.renderOutput(dataTable, element);\n",
              "          const docLink = document.createElement('div');\n",
              "          docLink.innerHTML = docLinkHtml;\n",
              "          element.appendChild(docLink);\n",
              "        }\n",
              "      </script>\n",
              "    </div>\n",
              "  </div>\n",
              "  "
            ],
            "application/vnd.google.colaboratory.module+javascript": "\n      import \"https://ssl.gstatic.com/colaboratory/data_table/99dac6621f6ae8c4/data_table.js\";\n\n      window.createDataTable({\n        data: [[{\n            'v': 0,\n            'f': \"0\",\n        },\n\"20210125\",\n{\n            'v': 1611568466723750,\n            'f': \"1611568466723750\",\n        },\n\"view_promotion\",\n\"page_title\",\n\"Home\",\n\"<NA>\",\n{\n            'v': NaN,\n            'f': \"NaN\",\n        },\n{\n            'v': NaN,\n            'f': \"NaN\",\n        },\n\"61243398.6312559948\"],\n [{\n            'v': 1,\n            'f': \"1\",\n        },\n\"20210125\",\n{\n            'v': 1611614098807421,\n            'f': \"1611614098807421\",\n        },\n\"select_promotion\",\n\"session_engaged\",\n\"1\",\n\"<NA>\",\n{\n            'v': NaN,\n            'f': \"NaN\",\n        },\n{\n            'v': NaN,\n            'f': \"NaN\",\n        },\n\"62675582.3881827967\"],\n [{\n            'v': 2,\n            'f': \"2\",\n        },\n\"20210125\",\n{\n            'v': 1611614098807421,\n            'f': \"1611614098807421\",\n        },\n\"view_promotion\",\n\"session_engaged\",\n\"1\",\n\"<NA>\",\n{\n            'v': NaN,\n            'f': \"NaN\",\n        },\n{\n            'v': NaN,\n            'f': \"NaN\",\n        },\n\"62675582.3881827967\"],\n [{\n            'v': 3,\n            'f': \"3\",\n        },\n\"20210125\",\n{\n            'v': 1611533240927791,\n            'f': \"1611533240927791\",\n        },\n\"view_promotion\",\n\"page_location\",\n\"https://shop.googlemerchandisestore.com/\",\n\"<NA>\",\n{\n            'v': NaN,\n            'f': \"NaN\",\n        },\n{\n            'v': NaN,\n            'f': \"NaN\",\n        },\n\"63326662.4577590696\"],\n [{\n            'v': 4,\n            'f': \"4\",\n        },\n\"20210125\",\n{\n            'v': 1611609917093305,\n            'f': \"1611609917093305\",\n        },\n\"view_promotion\",\n\"engagement_time_msec\",\nnull,\n126,\n{\n            'v': NaN,\n            'f': \"NaN\",\n        },\n{\n            'v': NaN,\n            'f': \"NaN\",\n        },\n\"66749267.2079297955\"]],\n        columns: [[\"number\", \"index\"], [\"string\", \"event_date\"], [\"number\", \"event_timestamp\"], [\"string\", \"event_name\"], [\"string\", \"event_param_key\"], [\"string\", \"string_value\"], [\"string\", \"int_value\"], [\"number\", \"float_value\"], [\"number\", \"double_value\"], [\"string\", \"user_pseudo_id\"]],\n        columnOptions: [{\"width\": \"1px\", \"className\": \"index_column\"}],\n        rowsPerPage: 25,\n        helpUrl: \"https://colab.research.google.com/notebooks/data_table.ipynb\",\n        suppressOutputScrolling: true,\n        minimumWidth: undefined,\n      });\n    "
          },
          "metadata": {},
          "execution_count": 29
        }
      ]
    },
    {
      "cell_type": "markdown",
      "source": [
        "### Data Exploration"
      ],
      "metadata": {
        "id": "cujsMbMdQ2wz"
      },
      "id": "cujsMbMdQ2wz"
    },
    {
      "cell_type": "markdown",
      "source": [
        "#### Number of Pageviews per Day"
      ],
      "metadata": {
        "id": "Nn6ettZHbz6L"
      },
      "id": "Nn6ettZHbz6L"
    },
    {
      "cell_type": "code",
      "source": [],
      "metadata": {
        "id": "yoeRq_jOb4xW"
      },
      "id": "yoeRq_jOb4xW",
      "execution_count": null,
      "outputs": []
    },
    {
      "cell_type": "code",
      "source": [],
      "metadata": {
        "id": "0DQbG71vb40q"
      },
      "id": "0DQbG71vb40q",
      "execution_count": null,
      "outputs": []
    },
    {
      "cell_type": "code",
      "source": [
        "df_events.info()"
      ],
      "metadata": {
        "colab": {
          "base_uri": "https://localhost:8080/"
        },
        "id": "xUZtdrgHNG5A",
        "outputId": "ce2cd1cd-99d2-4b37-e5ff-a3a66e185e14"
      },
      "id": "xUZtdrgHNG5A",
      "execution_count": null,
      "outputs": [
        {
          "output_type": "stream",
          "name": "stdout",
          "text": [
            "<class 'pandas.core.frame.DataFrame'>\n",
            "RangeIndex: 11762784 entries, 0 to 11762783\n",
            "Data columns (total 9 columns):\n",
            " #   Column           Dtype  \n",
            "---  ------           -----  \n",
            " 0   event_date       object \n",
            " 1   event_timestamp  Int64  \n",
            " 2   event_name       object \n",
            " 3   event_param_key  object \n",
            " 4   string_value     object \n",
            " 5   int_value        Int64  \n",
            " 6   float_value      float64\n",
            " 7   double_value     float64\n",
            " 8   user_pseudo_id   object \n",
            "dtypes: Int64(2), float64(2), object(5)\n",
            "memory usage: 830.1+ MB\n"
          ]
        }
      ]
    },
    {
      "cell_type": "code",
      "source": [
        "df_events[\"event_name\"].value_counts()"
      ],
      "metadata": {
        "colab": {
          "base_uri": "https://localhost:8080/"
        },
        "id": "rFzc9up8Qam5",
        "outputId": "6266c775-3cb2-4183-fda8-06a4d18385dc"
      },
      "id": "rFzc9up8Qam5",
      "execution_count": null,
      "outputs": [
        {
          "output_type": "execute_result",
          "data": {
            "text/plain": [
              "page_view              4377354\n",
              "user_engagement        2724233\n",
              "scroll                 1532382\n",
              "view_item               839774\n",
              "session_start           667820\n",
              "first_visit             586287\n",
              "view_promotion          458172\n",
              "add_to_cart             141852\n",
              "begin_checkout          131525\n",
              "select_item             103785\n",
              "view_search_results      83655\n",
              "add_shipping_info        38727\n",
              "add_payment_info         27922\n",
              "select_promotion         25106\n",
              "purchase                 21174\n",
              "click                     2945\n",
              "view_item_list              71\n",
              "Name: event_name, dtype: int64"
            ]
          },
          "metadata": {},
          "execution_count": 31
        }
      ]
    },
    {
      "cell_type": "code",
      "source": [
        "df_events[\"event_param_key\"].value_counts()"
      ],
      "metadata": {
        "colab": {
          "base_uri": "https://localhost:8080/"
        },
        "id": "Ex8G1Fn1QRGy",
        "outputId": "06f364f5-65ef-4ef7-ce8e-65e3493387fb"
      },
      "id": "Ex8G1Fn1QRGy",
      "execution_count": null,
      "outputs": [
        {
          "output_type": "execute_result",
          "data": {
            "text/plain": [
              "ga_session_number        1210147\n",
              "page_location            1210147\n",
              "ga_session_id            1210147\n",
              "page_title               1202594\n",
              "engaged_session_event    1171598\n",
              "session_engaged          1113643\n",
              "debug_mode               1004702\n",
              "page_referrer             964706\n",
              "engagement_time_msec      740021\n",
              "medium                    336342\n",
              "campaign                  336340\n",
              "source                    335200\n",
              "all_data                  213369\n",
              "clean_event               213355\n",
              "percent_scrolled          138997\n",
              "entrances                 109558\n",
              "term                      102623\n",
              "gclid                      58176\n",
              "gclsrc                     58018\n",
              "currency                    7997\n",
              "search_term                 7815\n",
              "unique_search_term          6225\n",
              "dclid                       4696\n",
              "payment_type                 904\n",
              "transaction_id               904\n",
              "value                        904\n",
              "tax                          904\n",
              "shipping_tier                898\n",
              "coupon                       776\n",
              "promotion_name               425\n",
              "outbound                     217\n",
              "link_domain                  217\n",
              "link_url                     217\n",
              "link_classes                   2\n",
              "Name: event_param_key, dtype: int64"
            ]
          },
          "metadata": {},
          "execution_count": 32
        }
      ]
    },
    {
      "cell_type": "markdown",
      "id": "a0d090db-9712-40ad-8d7c-70dca34d256c",
      "metadata": {
        "id": "a0d090db-9712-40ad-8d7c-70dca34d256c"
      },
      "source": [
        "<a id='P2' name=\"P2\"></a>\n",
        "## [Part 2 title here](#P0)"
      ]
    },
    {
      "cell_type": "markdown",
      "id": "57561bd5-2390-43be-b47e-6450df034c69",
      "metadata": {
        "id": "57561bd5-2390-43be-b47e-6450df034c69"
      },
      "source": [
        "<a id='CL'></a>\n",
        "## [Conclusion](#P0)\n",
        "\n",
        "This is a pre-written conclusion in which we have nice figures."
      ]
    },
    {
      "cell_type": "markdown",
      "id": "66741e1f-51a5-49b7-8012-077607aacbca",
      "metadata": {
        "id": "66741e1f-51a5-49b7-8012-077607aacbca"
      },
      "source": [
        "<div style=\"border-top:0.1cm solid #EF475B\"></div>\n",
        "    <strong><a href='#Q0'><div style=\"text-align: right\"> <h3>End of this Notebook.</h3></div></a></strong>"
      ]
    }
  ],
  "metadata": {
    "kernelspec": {
      "display_name": "Python 3",
      "name": "python3"
    },
    "language_info": {
      "name": "python"
    },
    "colab": {
      "provenance": [],
      "toc_visible": true,
      "include_colab_link": true
    },
    "gpuClass": "standard"
  },
  "nbformat": 4,
  "nbformat_minor": 5
}